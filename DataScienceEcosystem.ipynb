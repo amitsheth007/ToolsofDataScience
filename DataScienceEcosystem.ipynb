{
 "cells": [
  {
   "cell_type": "markdown",
   "id": "5da021b1",
   "metadata": {},
   "source": [
    "#### Exercise 2\n",
    "\n",
    "# Data Science Tools and Ecosystem"
   ]
  },
  {
   "cell_type": "markdown",
   "id": "e80a99b9",
   "metadata": {},
   "source": [
    "#### Exercise 3\n",
    "\n",
    "#### In this notebook, Data Science Tools and Ecosystem are summarized."
   ]
  },
  {
   "cell_type": "markdown",
   "id": "54eea785",
   "metadata": {},
   "source": [
    "#### Exercise 10\n",
    "\n",
    "**Objectives**\n",
    "\n",
    "- Overview of various tools used in data science such as Jupyter Notebook and RStudio\n",
    "- Overview of API's, Libraries and Datasets\n",
    "- List various programming languages used in data science such as Python and R\n",
    "- Installation of Jupyter Notebook and RStudio and writing very basic codes\n",
    "- Importance of version control using GitHub"
   ]
  },
  {
   "cell_type": "markdown",
   "id": "ac630483",
   "metadata": {},
   "source": [
    "#### Exercise 4\n",
    "\n",
    "#### Some of the popular languages that Data Scientists use are:\n",
    "\n",
    "1. Python\n",
    "2. R\n",
    "3. Julia\n",
    "4. Scala"
   ]
  },
  {
   "cell_type": "markdown",
   "id": "64d92071",
   "metadata": {},
   "source": [
    "#### Exercise 5\n",
    "\n",
    "#### Some of the commonly used libraries used by Data Scientists include:\n",
    "\n",
    "1. NumPy\n",
    "2. SciPy\n",
    "3. caret\n",
    "4. scikit-learn\n",
    "5. Pandas\n",
    "6. TensorFlow"
   ]
  },
  {
   "cell_type": "markdown",
   "id": "ec2573d0",
   "metadata": {},
   "source": [
    "#### Exercise 6 - Single Column Table\n",
    "\n",
    "|Data Science Tools|\n",
    "|--------------------|\n",
    "|Hadoop|\n",
    "|Apace Spark|\n",
    "|Jupyter Notebook|\n",
    "|RStudio|\n",
    "|VS Code|\n",
    "|Spyder|\n",
    "|KNIME|"
   ]
  },
  {
   "cell_type": "markdown",
   "id": "8fbe2932",
   "metadata": {},
   "source": [
    "#### Exercise 7 - H3 Style Heading\n",
    "\n",
    "### Below are a few examples of evaluating arithmetic expressions in Python"
   ]
  },
  {
   "cell_type": "code",
   "execution_count": 1,
   "id": "e60a2b50",
   "metadata": {},
   "outputs": [
    {
     "name": "stdout",
     "output_type": "stream",
     "text": [
      "17\n"
     ]
    }
   ],
   "source": [
    "# Exercise 8 \n",
    "\n",
    "# This is a simple arithmetic code to multiply and then add integers\n",
    "\n",
    "print((3*4)+5)"
   ]
  },
  {
   "cell_type": "code",
   "execution_count": 2,
   "id": "eb66e31f",
   "metadata": {},
   "outputs": [
    {
     "name": "stdout",
     "output_type": "stream",
     "text": [
      "3.3333333333333335\n"
     ]
    }
   ],
   "source": [
    "# Exercise 9\n",
    "\n",
    "# This will convert 200 minutes to hours by dividing by 60\n",
    "\n",
    "print(200/60)"
   ]
  },
  {
   "cell_type": "markdown",
   "id": "ccf62c1b",
   "metadata": {},
   "source": [
    "#### Exercise 11\n",
    "\n",
    "## Author\n",
    "Amit Sheth"
   ]
  }
 ],
 "metadata": {
  "kernelspec": {
   "display_name": "Python 3 (ipykernel)",
   "language": "python",
   "name": "python3"
  },
  "language_info": {
   "codemirror_mode": {
    "name": "ipython",
    "version": 3
   },
   "file_extension": ".py",
   "mimetype": "text/x-python",
   "name": "python",
   "nbconvert_exporter": "python",
   "pygments_lexer": "ipython3",
   "version": "3.11.4"
  }
 },
 "nbformat": 4,
 "nbformat_minor": 5
}
